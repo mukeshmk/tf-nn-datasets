{
 "cells": [
  {
   "cell_type": "code",
   "execution_count": 1,
   "metadata": {},
   "outputs": [],
   "source": [
    "# core tensorflow modules\n",
    "import tensorflow as tf\n",
    "from tensorflow import keras\n",
    "\n",
    "# using scikit for dataset and train_test_split apprently tf is difficult to work with in this case\n",
    "from sklearn import datasets\n",
    "from sklearn.model_selection import train_test_split"
   ]
  },
  {
   "cell_type": "code",
   "execution_count": 2,
   "metadata": {},
   "outputs": [],
   "source": [
    "# import some data to play with\n",
    "iris = datasets.load_iris()\n",
    "X = iris.data\n",
    "Y = iris.target\n",
    "\n",
    "x_train, x_test, y_train, y_test = train_test_split(X, Y, test_size=0.2, random_state=123)"
   ]
  },
  {
   "cell_type": "code",
   "execution_count": 3,
   "metadata": {},
   "outputs": [],
   "source": [
    "model = keras.Sequential([\n",
    "    keras.layers.Flatten(input_shape=(4,)),  # input layer (1)\n",
    "    keras.layers.Dense(32, activation='relu'),  # hidden layer (2)\n",
    "    keras.layers.Dense(16, activation='relu'),  # hidden layer (3)\n",
    "    keras.layers.Dense(3, activation='softmax') # output layer (4)\n",
    "])\n",
    "\n",
    "model.compile(optimizer='adam',\n",
    "              loss='sparse_categorical_crossentropy',\n",
    "              metrics=['accuracy'])"
   ]
  },
  {
   "cell_type": "code",
   "execution_count": 4,
   "metadata": {},
   "outputs": [
    {
     "output_type": "stream",
     "name": "stdout",
     "text": "Train on 120 samples\nEpoch 1/20\n120/120 [==============================] - 3s 28ms/sample - loss: 1.2967 - accuracy: 0.3083\nEpoch 2/20\n120/120 [==============================] - 0s 125us/sample - loss: 1.1070 - accuracy: 0.4167\nEpoch 3/20\n120/120 [==============================] - 0s 150us/sample - loss: 0.9737 - accuracy: 0.6750\nEpoch 4/20\n120/120 [==============================] - 0s 183us/sample - loss: 0.8957 - accuracy: 0.6750\nEpoch 5/20\n120/120 [==============================] - 0s 166us/sample - loss: 0.8429 - accuracy: 0.6750\nEpoch 6/20\n120/120 [==============================] - 0s 224us/sample - loss: 0.8059 - accuracy: 0.6750\nEpoch 7/20\n120/120 [==============================] - 0s 158us/sample - loss: 0.7773 - accuracy: 0.6750\nEpoch 8/20\n120/120 [==============================] - 0s 141us/sample - loss: 0.7513 - accuracy: 0.6750\nEpoch 9/20\n120/120 [==============================] - 0s 166us/sample - loss: 0.7220 - accuracy: 0.7000\nEpoch 10/20\n120/120 [==============================] - 0s 191us/sample - loss: 0.6985 - accuracy: 0.7667\nEpoch 11/20\n120/120 [==============================] - 0s 150us/sample - loss: 0.6777 - accuracy: 0.8417\nEpoch 12/20\n120/120 [==============================] - 0s 208us/sample - loss: 0.6584 - accuracy: 0.9083\nEpoch 13/20\n120/120 [==============================] - 0s 150us/sample - loss: 0.6405 - accuracy: 0.9083\nEpoch 14/20\n120/120 [==============================] - 0s 158us/sample - loss: 0.6237 - accuracy: 0.9333\nEpoch 15/20\n120/120 [==============================] - 0s 158us/sample - loss: 0.6078 - accuracy: 0.9333\nEpoch 16/20\n120/120 [==============================] - 0s 175us/sample - loss: 0.5940 - accuracy: 0.9583\nEpoch 17/20\n120/120 [==============================] - 0s 150us/sample - loss: 0.5818 - accuracy: 0.9583\nEpoch 18/20\n120/120 [==============================] - 0s 150us/sample - loss: 0.5711 - accuracy: 0.9500\nEpoch 19/20\n120/120 [==============================] - 0s 133us/sample - loss: 0.5596 - accuracy: 0.9333\nEpoch 20/20\n120/120 [==============================] - 0s 141us/sample - loss: 0.5490 - accuracy: 0.9417\n"
    },
    {
     "output_type": "execute_result",
     "data": {
      "text/plain": "<tensorflow.python.keras.callbacks.History at 0x276df8f9688>"
     },
     "metadata": {},
     "execution_count": 4
    }
   ],
   "source": [
    "model.fit(x_train, y_train, epochs=20) "
   ]
  },
  {
   "cell_type": "code",
   "execution_count": 5,
   "metadata": {},
   "outputs": [
    {
     "output_type": "stream",
     "name": "stdout",
     "text": "30/30 [==============================] - 0s 3ms/sample - loss: 0.4743 - accuracy: 0.9333\nTest accuracy: 0.93333334\n"
    }
   ],
   "source": [
    "test_loss, test_acc = model.evaluate(x_test,  y_test, verbose=1) \n",
    "\n",
    "print('Test accuracy:', test_acc)"
   ]
  }
 ],
 "metadata": {
  "language_info": {
   "codemirror_mode": {
    "name": "ipython",
    "version": 3
   },
   "file_extension": ".py",
   "mimetype": "text/x-python",
   "name": "python",
   "nbconvert_exporter": "python",
   "pygments_lexer": "ipython3",
   "version": "3.7.4-final"
  },
  "orig_nbformat": 2,
  "kernelspec": {
   "name": "python3",
   "display_name": "Python 3"
  }
 },
 "nbformat": 4,
 "nbformat_minor": 2
}