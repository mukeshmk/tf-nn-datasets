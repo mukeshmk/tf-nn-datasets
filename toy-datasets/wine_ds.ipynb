{
 "cells": [
  {
   "cell_type": "code",
   "execution_count": 1,
   "metadata": {},
   "outputs": [],
   "source": [
    "# core tensorflow modules\n",
    "import tensorflow as tf\n",
    "from tensorflow import keras\n",
    "\n",
    "# using scikit for dataset and train_test_split apprently tf is difficult to work with in this case\n",
    "from sklearn import datasets\n",
    "from sklearn.model_selection import train_test_split"
   ]
  },
  {
   "cell_type": "code",
   "execution_count": 2,
   "metadata": {},
   "outputs": [],
   "source": [
    "# import some data to play with\n",
    "db = datasets.load_wine()\n",
    "X = db.data\n",
    "Y = db.target\n",
    "\n",
    "x_train, x_test, y_train, y_test = train_test_split(X, Y, test_size=0.2, random_state=123)"
   ]
  },
  {
   "cell_type": "code",
   "execution_count": 3,
   "metadata": {},
   "outputs": [],
   "source": [
    "model = keras.Sequential([\n",
    "    keras.layers.Flatten(input_shape=(13,)),  # input layer\n",
    "    keras.layers.Dense(64, activation='relu'),  # hidden layer\n",
    "    keras.layers.Dense(32, activation='relu'),  # hidden layer\n",
    "    keras.layers.Dense(3, activation='softmax') # output layer\n",
    "])\n",
    "\n",
    "model.compile(optimizer='adam',\n",
    "              loss='sparse_categorical_crossentropy',\n",
    "              metrics=['accuracy'])"
   ]
  },
  {
   "cell_type": "code",
   "execution_count": 4,
   "metadata": {},
   "outputs": [
    {
     "output_type": "stream",
     "name": "stdout",
     "text": "Train on 142 samples\nEpoch 1/30\n142/142 [==============================] - 1s 4ms/sample - loss: 18.9878 - accuracy: 0.3803\nEpoch 2/30\n142/142 [==============================] - 0s 119us/sample - loss: 3.9306 - accuracy: 0.4296\nEpoch 3/30\n142/142 [==============================] - 0s 140us/sample - loss: 4.2646 - accuracy: 0.5986\nEpoch 4/30\n142/142 [==============================] - 0s 155us/sample - loss: 2.4064 - accuracy: 0.4789\nEpoch 5/30\n142/142 [==============================] - 0s 141us/sample - loss: 1.9370 - accuracy: 0.6972\nEpoch 6/30\n142/142 [==============================] - 0s 162us/sample - loss: 2.0997 - accuracy: 0.6408\nEpoch 7/30\n142/142 [==============================] - 0s 162us/sample - loss: 1.0119 - accuracy: 0.6549\nEpoch 8/30\n142/142 [==============================] - 0s 154us/sample - loss: 0.7740 - accuracy: 0.7324\nEpoch 9/30\n142/142 [==============================] - 0s 148us/sample - loss: 0.8759 - accuracy: 0.7254\nEpoch 10/30\n142/142 [==============================] - 0s 133us/sample - loss: 0.7544 - accuracy: 0.7042\nEpoch 11/30\n142/142 [==============================] - 0s 169us/sample - loss: 0.9069 - accuracy: 0.6620\nEpoch 12/30\n142/142 [==============================] - 0s 155us/sample - loss: 0.8071 - accuracy: 0.6972\nEpoch 13/30\n142/142 [==============================] - 0s 176us/sample - loss: 0.6598 - accuracy: 0.7183\nEpoch 14/30\n142/142 [==============================] - 0s 141us/sample - loss: 0.6499 - accuracy: 0.7394\nEpoch 15/30\n142/142 [==============================] - 0s 133us/sample - loss: 0.5501 - accuracy: 0.7887\nEpoch 16/30\n142/142 [==============================] - 0s 140us/sample - loss: 0.5374 - accuracy: 0.7746\nEpoch 17/30\n142/142 [==============================] - 0s 119us/sample - loss: 0.5900 - accuracy: 0.8028\nEpoch 18/30\n142/142 [==============================] - 0s 126us/sample - loss: 0.7616 - accuracy: 0.7113\nEpoch 19/30\n142/142 [==============================] - 0s 119us/sample - loss: 0.5536 - accuracy: 0.8239\nEpoch 20/30\n142/142 [==============================] - 0s 119us/sample - loss: 0.4861 - accuracy: 0.7817\nEpoch 21/30\n142/142 [==============================] - 0s 112us/sample - loss: 0.5209 - accuracy: 0.8028\nEpoch 22/30\n142/142 [==============================] - 0s 119us/sample - loss: 0.4740 - accuracy: 0.7817\nEpoch 23/30\n142/142 [==============================] - 0s 120us/sample - loss: 0.4443 - accuracy: 0.8451\nEpoch 24/30\n142/142 [==============================] - 0s 119us/sample - loss: 0.5280 - accuracy: 0.8239\nEpoch 25/30\n142/142 [==============================] - 0s 127us/sample - loss: 0.5827 - accuracy: 0.7042\nEpoch 26/30\n142/142 [==============================] - 0s 140us/sample - loss: 0.5971 - accuracy: 0.7535\nEpoch 27/30\n142/142 [==============================] - 0s 113us/sample - loss: 0.5776 - accuracy: 0.7606\nEpoch 28/30\n142/142 [==============================] - 0s 112us/sample - loss: 0.7191 - accuracy: 0.7676\nEpoch 29/30\n142/142 [==============================] - 0s 119us/sample - loss: 0.6304 - accuracy: 0.6901\nEpoch 30/30\n142/142 [==============================] - 0s 127us/sample - loss: 0.5490 - accuracy: 0.7887\n"
    },
    {
     "output_type": "execute_result",
     "data": {
      "text/plain": "<tensorflow.python.keras.callbacks.History at 0x1c00b30d0c8>"
     },
     "metadata": {},
     "execution_count": 4
    }
   ],
   "source": [
    "model.fit(x_train, y_train, epochs=30) "
   ]
  },
  {
   "cell_type": "code",
   "execution_count": 5,
   "metadata": {},
   "outputs": [
    {
     "output_type": "stream",
     "name": "stdout",
     "text": "36/36 [==============================] - 0s 2ms/sample - loss: 0.3043 - accuracy: 0.9444\nTest accuracy: 0.9444444\n"
    }
   ],
   "source": [
    "test_loss, test_acc = model.evaluate(x_test,  y_test, verbose=1) \n",
    "\n",
    "print('Test accuracy:', test_acc)"
   ]
  }
 ],
 "metadata": {
  "language_info": {
   "codemirror_mode": {
    "name": "ipython",
    "version": 3
   },
   "file_extension": ".py",
   "mimetype": "text/x-python",
   "name": "python",
   "nbconvert_exporter": "python",
   "pygments_lexer": "ipython3",
   "version": "3.7.7-final"
  },
  "orig_nbformat": 2,
  "kernelspec": {
   "name": "python3",
   "display_name": "Python 3"
  }
 },
 "nbformat": 4,
 "nbformat_minor": 2
}