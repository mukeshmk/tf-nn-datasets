{
 "cells": [
  {
   "cell_type": "code",
   "execution_count": 1,
   "metadata": {},
   "outputs": [],
   "source": [
    "# core tensorflow modules\n",
    "import tensorflow as tf\n",
    "from tensorflow import keras\n",
    "\n",
    "# using scikit for dataset and train_test_split apprently tf is difficult to work with in this case\n",
    "from sklearn import datasets\n",
    "from sklearn.model_selection import train_test_split"
   ]
  },
  {
   "cell_type": "code",
   "execution_count": 2,
   "metadata": {},
   "outputs": [],
   "source": [
    "# import some data to play with\n",
    "db = datasets.load_breast_cancer()\n",
    "X = db.data\n",
    "Y = db.target\n",
    "\n",
    "x_train, x_test, y_train, y_test = train_test_split(X, Y, test_size=0.2, random_state=123)"
   ]
  },
  {
   "cell_type": "code",
   "execution_count": 3,
   "metadata": {},
   "outputs": [],
   "source": [
    "model = keras.Sequential([\n",
    "    keras.layers.Flatten(input_shape=(30,)),  # input layer\n",
    "    keras.layers.Dense(32, activation='relu'),  # hidden layer\n",
    "    keras.layers.Dense(2, activation='softmax') # output layer\n",
    "])\n",
    "\n",
    "model.compile(optimizer='adam',\n",
    "              loss='sparse_categorical_crossentropy',\n",
    "              metrics=['accuracy'])"
   ]
  },
  {
   "cell_type": "code",
   "execution_count": 4,
   "metadata": {},
   "outputs": [
    {
     "output_type": "stream",
     "name": "stdout",
     "text": "Train on 455 samples\nEpoch 1/20\n455/455 [==============================] - 1s 2ms/sample - loss: 20.0050 - accuracy: 0.4242\nEpoch 2/20\n455/455 [==============================] - 0s 107us/sample - loss: 4.6141 - accuracy: 0.5121\nEpoch 3/20\n455/455 [==============================] - 0s 105us/sample - loss: 2.3405 - accuracy: 0.6440\nEpoch 4/20\n455/455 [==============================] - 0s 114us/sample - loss: 1.4344 - accuracy: 0.7363\nEpoch 5/20\n455/455 [==============================] - 0s 107us/sample - loss: 0.6545 - accuracy: 0.8352\nEpoch 6/20\n455/455 [==============================] - 0s 109us/sample - loss: 0.3134 - accuracy: 0.9033\nEpoch 7/20\n455/455 [==============================] - 0s 118us/sample - loss: 0.2772 - accuracy: 0.8945\nEpoch 8/20\n455/455 [==============================] - 0s 105us/sample - loss: 0.3512 - accuracy: 0.8725\nEpoch 9/20\n455/455 [==============================] - 0s 103us/sample - loss: 0.3263 - accuracy: 0.8813\nEpoch 10/20\n455/455 [==============================] - 0s 110us/sample - loss: 0.3059 - accuracy: 0.8791\nEpoch 11/20\n455/455 [==============================] - 0s 99us/sample - loss: 0.2927 - accuracy: 0.9033\nEpoch 12/20\n455/455 [==============================] - 0s 110us/sample - loss: 0.2324 - accuracy: 0.9055\nEpoch 13/20\n455/455 [==============================] - 0s 112us/sample - loss: 0.3809 - accuracy: 0.8879\nEpoch 14/20\n455/455 [==============================] - 0s 116us/sample - loss: 0.2196 - accuracy: 0.9077\nEpoch 15/20\n455/455 [==============================] - 0s 138us/sample - loss: 0.2859 - accuracy: 0.8967\nEpoch 16/20\n455/455 [==============================] - 0s 145us/sample - loss: 0.2785 - accuracy: 0.9143\nEpoch 17/20\n455/455 [==============================] - 0s 136us/sample - loss: 0.2404 - accuracy: 0.9121\nEpoch 18/20\n455/455 [==============================] - 0s 125us/sample - loss: 0.2520 - accuracy: 0.9121\nEpoch 19/20\n455/455 [==============================] - 0s 134us/sample - loss: 0.2682 - accuracy: 0.9143\nEpoch 20/20\n455/455 [==============================] - 0s 151us/sample - loss: 0.2936 - accuracy: 0.8923\n"
    },
    {
     "output_type": "execute_result",
     "data": {
      "text/plain": "<tensorflow.python.keras.callbacks.History at 0x2abd6e85148>"
     },
     "metadata": {},
     "execution_count": 4
    }
   ],
   "source": [
    "model.fit(x_train, y_train, epochs=20) "
   ]
  },
  {
   "cell_type": "code",
   "execution_count": 5,
   "metadata": {},
   "outputs": [
    {
     "output_type": "stream",
     "name": "stdout",
     "text": "114/114 [==============================] - 0s 787us/sample - loss: 0.1213 - accuracy: 0.9561\nTest accuracy: 0.95614034\n"
    }
   ],
   "source": [
    "test_loss, test_acc = model.evaluate(x_test,  y_test, verbose=1) \n",
    "\n",
    "print('Test accuracy:', test_acc)"
   ]
  }
 ],
 "metadata": {
  "language_info": {
   "codemirror_mode": {
    "name": "ipython",
    "version": 3
   },
   "file_extension": ".py",
   "mimetype": "text/x-python",
   "name": "python",
   "nbconvert_exporter": "python",
   "pygments_lexer": "ipython3",
   "version": "3.7.7-final"
  },
  "orig_nbformat": 2,
  "kernelspec": {
   "name": "python3",
   "display_name": "Python 3"
  }
 },
 "nbformat": 4,
 "nbformat_minor": 2
}